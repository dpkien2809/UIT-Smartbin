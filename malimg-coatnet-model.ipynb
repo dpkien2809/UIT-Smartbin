{
 "cells": [
  {
   "cell_type": "markdown",
   "metadata": {
    "execution": {
     "iopub.execute_input": "2023-03-24T16:41:58.641874Z",
     "iopub.status.busy": "2023-03-24T16:41:58.641255Z",
     "iopub.status.idle": "2023-03-24T16:41:58.649871Z",
     "shell.execute_reply": "2023-03-24T16:41:58.647773Z",
     "shell.execute_reply.started": "2023-03-24T16:41:58.641786Z"
    }
   },
   "source": [
    "# Introduction\n",
    "\n",
    "\n",
    "Pattern recognition and image classification has surprisingly become one of the efficient methods of malware detection/classification. Back in 2011, the researchers from University of California (Santa Barbara, California, USA) - L. Nataraj, S. Karthikeyan, G. Jacob, and B. S. Manjunath - proposed a simple yet effective method for visualizing and classifying malware using image processing techniques. Malware binaries can be visualized as gray-scale images, with the observation that for many malware families, the images belonging to the same family appear very similar in layout and texture. Motivated by this visual similarity, a classification method using standard image features had been proposed by the researcher team. Neither disassembly nor code execution is required for such a classification. Preliminary experimental results were quite promising with 98% classification accuracy on a malware database of 9,458 samples with 25 different malware families (see their public paper per https://vision.ece.ucsb.edu/sites/default/files/publications/nataraj_vizsec_2011_paper.pdf for more info).\n",
    "\n",
    "\n",
    "The purpose of this notebook is to demonstrate that the hybrid **CoatNet** DL model architecture can bring more accurate malware detection/classification results on MalImg dataset, compared to the results of original inventors of Malware visualizing and classifying method mentioned above.\n",
    "\n",
    "\n",
    "**Notes:**\n",
    "\n",
    "- CoatNet implementation reused from\n",
    "https://github.com/leondgarse/keras_cv_attention_models/tree/main/keras_cv_attention_models/coatnet\n",
    "- Data preprocessing and brief EDA inspired by https://www.kaggle.com/code/tiletisaitejareddy/malware-classification-ism\n",
    "\n"
   ]
  },
  {
   "cell_type": "code",
   "execution_count": 1,
   "metadata": {},
   "outputs": [
    {
     "name": "stderr",
     "output_type": "stream",
     "text": [
      "2024-07-04 10:39:28.476572: E external/local_xla/xla/stream_executor/cuda/cuda_dnn.cc:9261] Unable to register cuDNN factory: Attempting to register factory for plugin cuDNN when one has already been registered\n",
      "2024-07-04 10:39:28.476616: E external/local_xla/xla/stream_executor/cuda/cuda_fft.cc:607] Unable to register cuFFT factory: Attempting to register factory for plugin cuFFT when one has already been registered\n",
      "2024-07-04 10:39:28.477399: E external/local_xla/xla/stream_executor/cuda/cuda_blas.cc:1515] Unable to register cuBLAS factory: Attempting to register factory for plugin cuBLAS when one has already been registered\n",
      "2024-07-04 10:39:28.482691: I tensorflow/core/platform/cpu_feature_guard.cc:182] This TensorFlow binary is optimized to use available CPU instructions in performance-critical operations.\n",
      "To enable the following instructions: SSE4.1 SSE4.2 AVX AVX2 FMA, in other operations, rebuild TensorFlow with the appropriate compiler flags.\n"
     ]
    }
   ],
   "source": [
    "#setup\n",
    "import sys\n",
    "import os\n",
    "from math import log\n",
    "import numpy as np\n",
    "import pandas as pd\n",
    "import scipy as sp\n",
    "from PIL import Image\n",
    "import matplotlib.pyplot as plt\n",
    "\n",
    "import tensorflow as tf\n",
    "\n",
    "from tensorflow import keras\n",
    "from tensorflow.keras import layers\n",
    "from tensorflow.keras.layers import Dense\n",
    "from tensorflow.keras.models import Model\n",
    "from tensorflow.keras.optimizers import Adam\n",
    "from tensorflow.keras.losses import CategoricalCrossentropy\n",
    "from tensorflow.keras.callbacks import Callback,ReduceLROnPlateau,EarlyStopping\n"
   ]
  },
  {
   "cell_type": "markdown",
   "metadata": {},
   "source": [
    "# Data Preprocessing and Basic EDA"
   ]
  },
  {
   "cell_type": "code",
   "execution_count": 2,
   "metadata": {},
   "outputs": [
    {
     "name": "stdout",
     "output_type": "stream",
     "text": [
      "Found 19683 images belonging to 3 classes.\n"
     ]
    }
   ],
   "source": [
    "# prepare the data\n",
    "\n",
    "train_root_path = \"../../Smartbin/Dataset/Crawl_dataset/Data_real\"\n",
    "\n",
    "from tensorflow.keras.preprocessing.image import ImageDataGenerator\n",
    "batches = ImageDataGenerator().flow_from_directory(directory=train_root_path, target_size=(56,56) ,batch_size=20050)"
   ]
  },
  {
   "cell_type": "code",
   "execution_count": 3,
   "metadata": {},
   "outputs": [
    {
     "data": {
      "text/plain": [
       "{'Organic': 0, 'Recycle': 1, 'UnRecycle': 2}"
      ]
     },
     "execution_count": 3,
     "metadata": {},
     "output_type": "execute_result"
    }
   ],
   "source": [
    "batches.class_indices"
   ]
  },
  {
   "cell_type": "code",
   "execution_count": 5,
   "metadata": {},
   "outputs": [
    {
     "data": {
      "text/plain": [
       "(19683, 56, 56, 3)"
      ]
     },
     "execution_count": 5,
     "metadata": {},
     "output_type": "execute_result"
    }
   ],
   "source": [
    "imgs, labels = next(batches)\n",
    "imgs.shape"
   ]
  },
  {
   "cell_type": "code",
   "execution_count": 6,
   "metadata": {},
   "outputs": [
    {
     "data": {
      "text/plain": [
       "(19683, 3)"
      ]
     },
     "execution_count": 6,
     "metadata": {},
     "output_type": "execute_result"
    }
   ],
   "source": [
    "labels.shape"
   ]
  },
  {
   "cell_type": "code",
   "execution_count": 7,
   "metadata": {},
   "outputs": [],
   "source": [
    "# # plots images with labels within jupyter notebook\n",
    "# def plots(ims, figsize=(20,30), rows=10, interp=False, titles=None):\n",
    "#     if type(ims[0]) is np.ndarray:\n",
    "#         ims = np.array(ims).astype(np.uint8)\n",
    "#         if (ims.shape[-1] != 3):\n",
    "#             ims = ims.transpose((0,2,3,1))\n",
    "#     f = plt.figure(figsize=figsize)\n",
    "#     cols = 10 # len(ims)//rows if len(ims) % 2 == 0 else len(ims)//rows + 1\n",
    "#     for i in range(0,50):\n",
    "#         sp = f.add_subplot(rows, cols, i+1)\n",
    "#         sp.axis('Off')\n",
    "#         if titles is not None:\n",
    "#             sp.set_title(list(batches.class_indices.keys())[np.argmax(titles[i])], fontsize=16)\n",
    "#         plt.imshow(ims[i], interpolation=None if interp else 'none')"
   ]
  },
  {
   "cell_type": "code",
   "execution_count": 8,
   "metadata": {},
   "outputs": [],
   "source": [
    "# plots(imgs, titles = labels)"
   ]
  },
  {
   "cell_type": "code",
   "execution_count": 9,
   "metadata": {},
   "outputs": [
    {
     "data": {
      "text/plain": [
       "<BarContainer object of 3 artists>"
      ]
     },
     "execution_count": 9,
     "metadata": {},
     "output_type": "execute_result"
    },
    {
     "data": {
      "image/png": "[encoded data removed]",
      "text/plain": [
       "<Figure size 640x480 with 1 Axes>"
      ]
     },
     "metadata": {},
     "output_type": "display_data"
    }
   ],
   "source": [
    "classes = batches.class_indices.keys()\n",
    "perc = (sum(labels)/labels.shape[0])*100\n",
    "\n",
    "plt.xticks(rotation='vertical')\n",
    "plt.bar(classes,perc)"
   ]
  },
  {
   "cell_type": "code",
   "execution_count": 10,
   "metadata": {},
   "outputs": [],
   "source": [
    "from sklearn.model_selection import train_test_split\n",
    "x_train, x_test, y_train, y_test = train_test_split(imgs/255.,labels, test_size=0.2)"
   ]
  },
  {
   "cell_type": "code",
   "execution_count": 11,
   "metadata": {},
   "outputs": [
    {
     "data": {
      "text/plain": [
       "(15746, 56, 56, 3)"
      ]
     },
     "execution_count": 11,
     "metadata": {},
     "output_type": "execute_result"
    }
   ],
   "source": [
    "x_train.shape"
   ]
  },
  {
   "cell_type": "code",
   "execution_count": 12,
   "metadata": {},
   "outputs": [
    {
     "data": {
      "text/plain": [
       "(3937, 3)"
      ]
     },
     "execution_count": 12,
     "metadata": {},
     "output_type": "execute_result"
    }
   ],
   "source": [
    "y_test.shape"
   ]
  },
  {
   "cell_type": "code",
   "execution_count": 13,
   "metadata": {},
   "outputs": [
    {
     "name": "stdout",
     "output_type": "stream",
     "text": [
      "x_train shape: (15746, 56, 56, 3) - y_train shape: (15746, 3)\n",
      "x_test shape: (3937, 56, 56, 3) - y_test shape: (3937, 3)\n"
     ]
    }
   ],
   "source": [
    "num_classes = len(classes)\n",
    "# we do not need to apply one-hot encoding to the labels as in https://keras.io/examples/vision/swin_transformers/\n",
    "# since the dataset data is already prepared for the multi-class classification\n",
    "#y_train = keras.utils.to_categorical(y_train, num_classes)\n",
    "#y_test = keras.utils.to_categorical(y_test, num_classes)\n",
    "print(f\"x_train shape: {x_train.shape} - y_train shape: {y_train.shape}\")\n",
    "print(f\"x_test shape: {x_test.shape} - y_test shape: {y_test.shape}\")"
   ]
  },
  {
   "cell_type": "markdown",
   "metadata": {},
   "source": [
    "# CoatNet Model"
   ]
  },
  {
   "cell_type": "markdown",
   "metadata": {},
   "source": [
    "**CoAtNet** is a hybrid neural network architecture where the best of CNN and Attention-based transformer models is conjugated in a single model architecture. It has been invented Zihang Dai, Hanxiao Liu, Quoc V. Le, and Mingxing Tan from Google Research team (their inventions published in https://arxiv.org/pdf/2106.04803.pdf).\n",
    "\n",
    "Transformers have attracted increasing interests in computer vision/image pattern recognition. However, they still fall behind the state-of-the-art convolutional networks. \n",
    "\n",
    "The authors of **CoAtNet** demonstrated that while Transformers tend to have larger model capacity, their generalization can be worse than convolutional networks due to the lack of the right inductive bias. To effectively combine the strengths from both architectures, they invented CoAtNets, a family of hybrid models built from two key insights: \n",
    "\n",
    "- (1) depthwise Convolution and self-Attention can be naturally unified via simple relative attention. \n",
    "- (2) vertically stacking convolution layers and attention layers in a principled way is surprisingly effective in improving generalization, capacity and efficiency.\n",
    "\n",
    "In the scope of this case study, the implementation of CoatNet from *Keras_cv_attention_models* Python package (per https://github.com/leondgarse/keras_cv_attention_models/tree/main/keras_cv_attention_models/convnext) has been used."
   ]
  },
  {
   "cell_type": "code",
   "execution_count": 14,
   "metadata": {
    "_kg_hide-input": true
   },
   "outputs": [
    {
     "name": "stderr",
     "output_type": "stream",
     "text": [
      "/opt/tljh/user/lib/python3.10/pty.py:89: RuntimeWarning: os.fork() was called. os.fork() is incompatible with multithreaded code, and JAX is multithreaded, so this will likely lead to a deadlock.\n",
      "  pid, fd = os.forkpty()\n"
     ]
    },
    {
     "name": "stdout",
     "output_type": "stream",
     "text": [
      "Defaulting to user installation because normal site-packages is not writeable\n",
      "Requirement already satisfied: keras_cv_attention_models in /home/jupyter-iec_smartbin/.local/lib/python3.10/site-packages (1.4.1)\n",
      "Requirement already satisfied: pillow in /home/jupyter-iec_smartbin/.local/lib/python3.10/site-packages (from keras_cv_attention_models) (10.3.0)\n",
      "Requirement already satisfied: tqdm in /opt/tljh/user/lib/python3.10/site-packages (from keras_cv_attention_models) (4.66.2)\n",
      "Requirement already satisfied: ftfy in /home/jupyter-iec_smartbin/.local/lib/python3.10/site-packages (from keras_cv_attention_models) (6.2.0)\n",
      "Requirement already satisfied: regex in /home/jupyter-iec_smartbin/.local/lib/python3.10/site-packages (from keras_cv_attention_models) (2023.12.25)\n",
      "Requirement already satisfied: tensorflow-datasets in /home/jupyter-iec_smartbin/.local/lib/python3.10/site-packages (from keras_cv_attention_models) (4.9.4)\n",
      "Requirement already satisfied: tensorflow in /opt/tljh/user/lib/python3.10/site-packages (from keras_cv_attention_models) (2.15.0)\n",
      "Requirement already satisfied: wcwidth<0.3.0,>=0.2.12 in /opt/tljh/user/lib/python3.10/site-packages (from ftfy->keras_cv_attention_models) (0.2.13)\n",
      "Requirement already satisfied: absl-py>=1.0.0 in /home/jupyter-iec_smartbin/.local/lib/python3.10/site-packages (from tensorflow->keras_cv_attention_models) (1.4.0)\n",
      "Requirement already satisfied: astunparse>=1.6.0 in /opt/tljh/user/lib/python3.10/site-packages (from tensorflow->keras_cv_attention_models) (1.6.3)\n",
      "Requirement already satisfied: flatbuffers>=23.5.26 in /opt/tljh/user/lib/python3.10/site-packages (from tensorflow->keras_cv_attention_models) (24.3.25)\n",
      "Requirement already satisfied: gast!=0.5.0,!=0.5.1,!=0.5.2,>=0.2.1 in /opt/tljh/user/lib/python3.10/site-packages (from tensorflow->keras_cv_attention_models) (0.5.4)\n",
      "Requirement already satisfied: google-pasta>=0.1.1 in /opt/tljh/user/lib/python3.10/site-packages (from tensorflow->keras_cv_attention_models) (0.2.0)\n",
      "Requirement already satisfied: h5py>=2.9.0 in /opt/tljh/user/lib/python3.10/site-packages (from tensorflow->keras_cv_attention_models) (3.10.0)\n",
      "Requirement already satisfied: ml-dtypes~=0.2.0 in /opt/tljh/user/lib/python3.10/site-packages (from tensorflow->keras_cv_attention_models) (0.2.0)\n",
      "Requirement already satisfied: numpy<2.0.0,>=1.23.5 in /opt/tljh/user/lib/python3.10/site-packages (from tensorflow->keras_cv_attention_models) (1.26.4)\n",
      "Requirement already satisfied: opt-einsum>=2.3.2 in /opt/tljh/user/lib/python3.10/site-packages (from tensorflow->keras_cv_attention_models) (3.3.0)\n",
      "Requirement already satisfied: packaging in /opt/tljh/user/lib/python3.10/site-packages (from tensorflow->keras_cv_attention_models) (24.0)\n",
      "Requirement already satisfied: protobuf!=4.21.0,!=4.21.1,!=4.21.2,!=4.21.3,!=4.21.4,!=4.21.5,<5.0.0dev,>=3.20.3 in /home/jupyter-iec_smartbin/.local/lib/python3.10/site-packages (from tensorflow->keras_cv_attention_models) (3.20.3)\n",
      "Requirement already satisfied: setuptools in /opt/tljh/user/lib/python3.10/site-packages (from tensorflow->keras_cv_attention_models) (69.2.0)\n",
      "Requirement already satisfied: six>=1.12.0 in /opt/tljh/user/lib/python3.10/site-packages (from tensorflow->keras_cv_attention_models) (1.16.0)\n",
      "Requirement already satisfied: termcolor>=1.1.0 in /opt/tljh/user/lib/python3.10/site-packages (from tensorflow->keras_cv_attention_models) (2.4.0)\n",
      "Requirement already satisfied: typing-extensions>=3.6.6 in /opt/tljh/user/lib/python3.10/site-packages (from tensorflow->keras_cv_attention_models) (4.10.0)\n",
      "Requirement already satisfied: wrapt<1.15,>=1.11.0 in /opt/tljh/user/lib/python3.10/site-packages (from tensorflow->keras_cv_attention_models) (1.14.1)\n",
      "Requirement already satisfied: grpcio<2.0,>=1.24.3 in /opt/tljh/user/lib/python3.10/site-packages (from tensorflow->keras_cv_attention_models) (1.59.3)\n",
      "Requirement already satisfied: tensorboard<2.16,>=2.15 in /opt/tljh/user/lib/python3.10/site-packages (from tensorflow->keras_cv_attention_models) (2.15.2)\n",
      "Requirement already satisfied: tensorflow-estimator<2.16,>=2.15.0 in /opt/tljh/user/lib/python3.10/site-packages (from tensorflow->keras_cv_attention_models) (2.15.0)\n",
      "Requirement already satisfied: keras<2.16,>=2.15.0 in /home/jupyter-iec_smartbin/.local/lib/python3.10/site-packages (from tensorflow->keras_cv_attention_models) (2.15.0)\n",
      "Requirement already satisfied: click in /opt/tljh/user/lib/python3.10/site-packages (from tensorflow-datasets->keras_cv_attention_models) (8.1.7)\n",
      "Requirement already satisfied: dm-tree in /home/jupyter-iec_smartbin/.local/lib/python3.10/site-packages (from tensorflow-datasets->keras_cv_attention_models) (0.1.8)\n",
      "Requirement already satisfied: etils>=0.9.0 in /home/jupyter-iec_smartbin/.local/lib/python3.10/site-packages (from etils[enp,epath,etree]>=0.9.0->tensorflow-datasets->keras_cv_attention_models) (1.7.0)\n",
      "Requirement already satisfied: promise in /home/jupyter-iec_smartbin/.local/lib/python3.10/site-packages (from tensorflow-datasets->keras_cv_attention_models) (2.3)\n",
      "Requirement already satisfied: psutil in /opt/tljh/user/lib/python3.10/site-packages (from tensorflow-datasets->keras_cv_attention_models) (5.9.8)\n",
      "Requirement already satisfied: requests>=2.19.0 in /opt/tljh/user/lib/python3.10/site-packages (from tensorflow-datasets->keras_cv_attention_models) (2.31.0)\n",
      "Requirement already satisfied: tensorflow-metadata in /home/jupyter-iec_smartbin/.local/lib/python3.10/site-packages (from tensorflow-datasets->keras_cv_attention_models) (1.14.0)\n",
      "Requirement already satisfied: toml in /home/jupyter-iec_smartbin/.local/lib/python3.10/site-packages (from tensorflow-datasets->keras_cv_attention_models) (0.10.2)\n",
      "Requirement already satisfied: array-record>=0.5.0 in /home/jupyter-iec_smartbin/.local/lib/python3.10/site-packages (from tensorflow-datasets->keras_cv_attention_models) (0.5.1)\n",
      "Requirement already satisfied: wheel<1.0,>=0.23.0 in /opt/tljh/user/lib/python3.10/site-packages (from astunparse>=1.6.0->tensorflow->keras_cv_attention_models) (0.43.0)\n",
      "Requirement already satisfied: fsspec in /home/jupyter-iec_smartbin/.local/lib/python3.10/site-packages (from etils[enp,epath,etree]>=0.9.0->tensorflow-datasets->keras_cv_attention_models) (2024.3.1)\n",
      "Requirement already satisfied: importlib_resources in /home/jupyter-iec_smartbin/.local/lib/python3.10/site-packages (from etils[enp,epath,etree]>=0.9.0->tensorflow-datasets->keras_cv_attention_models) (6.4.0)\n",
      "Requirement already satisfied: zipp in /opt/tljh/user/lib/python3.10/site-packages (from etils[enp,epath,etree]>=0.9.0->tensorflow-datasets->keras_cv_attention_models) (3.17.0)\n",
      "Requirement already satisfied: charset-normalizer<4,>=2 in /opt/tljh/user/lib/python3.10/site-packages (from requests>=2.19.0->tensorflow-datasets->keras_cv_attention_models) (3.3.2)\n",
      "Requirement already satisfied: idna<4,>=2.5 in /opt/tljh/user/lib/python3.10/site-packages (from requests>=2.19.0->tensorflow-datasets->keras_cv_attention_models) (3.6)\n",
      "Requirement already satisfied: urllib3<3,>=1.21.1 in /opt/tljh/user/lib/python3.10/site-packages (from requests>=2.19.0->tensorflow-datasets->keras_cv_attention_models) (2.2.1)\n",
      "Requirement already satisfied: certifi>=2017.4.17 in /opt/tljh/user/lib/python3.10/site-packages (from requests>=2.19.0->tensorflow-datasets->keras_cv_attention_models) (2024.2.2)\n",
      "Requirement already satisfied: google-auth<3,>=1.6.3 in /opt/tljh/user/lib/python3.10/site-packages (from tensorboard<2.16,>=2.15->tensorflow->keras_cv_attention_models) (2.29.0)\n",
      "Requirement already satisfied: google-auth-oauthlib<2,>=0.5 in /opt/tljh/user/lib/python3.10/site-packages (from tensorboard<2.16,>=2.15->tensorflow->keras_cv_attention_models) (1.2.0)\n",
      "Requirement already satisfied: markdown>=2.6.8 in /opt/tljh/user/lib/python3.10/site-packages (from tensorboard<2.16,>=2.15->tensorflow->keras_cv_attention_models) (3.6)\n",
      "Requirement already satisfied: tensorboard-data-server<0.8.0,>=0.7.0 in /opt/tljh/user/lib/python3.10/site-packages (from tensorboard<2.16,>=2.15->tensorflow->keras_cv_attention_models) (0.7.0)\n",
      "Requirement already satisfied: werkzeug>=1.0.1 in /opt/tljh/user/lib/python3.10/site-packages (from tensorboard<2.16,>=2.15->tensorflow->keras_cv_attention_models) (3.0.1)\n",
      "Requirement already satisfied: googleapis-common-protos<2,>=1.52.0 in /home/jupyter-iec_smartbin/.local/lib/python3.10/site-packages (from tensorflow-metadata->tensorflow-datasets->keras_cv_attention_models) (1.63.0)\n",
      "Requirement already satisfied: cachetools<6.0,>=2.0.0 in /opt/tljh/user/lib/python3.10/site-packages (from google-auth<3,>=1.6.3->tensorboard<2.16,>=2.15->tensorflow->keras_cv_attention_models) (5.3.3)\n",
      "Requirement already satisfied: pyasn1-modules>=0.2.1 in /opt/tljh/user/lib/python3.10/site-packages (from google-auth<3,>=1.6.3->tensorboard<2.16,>=2.15->tensorflow->keras_cv_attention_models) (0.3.0)\n",
      "Requirement already satisfied: rsa<5,>=3.1.4 in /opt/tljh/user/lib/python3.10/site-packages (from google-auth<3,>=1.6.3->tensorboard<2.16,>=2.15->tensorflow->keras_cv_attention_models) (4.9)\n",
      "Requirement already satisfied: requests-oauthlib>=0.7.0 in /opt/tljh/user/lib/python3.10/site-packages (from google-auth-oauthlib<2,>=0.5->tensorboard<2.16,>=2.15->tensorflow->keras_cv_attention_models) (2.0.0)\n",
      "Requirement already satisfied: MarkupSafe>=2.1.1 in /opt/tljh/user/lib/python3.10/site-packages (from werkzeug>=1.0.1->tensorboard<2.16,>=2.15->tensorflow->keras_cv_attention_models) (2.1.5)\n",
      "Requirement already satisfied: pyasn1<0.6.0,>=0.4.6 in /opt/tljh/user/lib/python3.10/site-packages (from pyasn1-modules>=0.2.1->google-auth<3,>=1.6.3->tensorboard<2.16,>=2.15->tensorflow->keras_cv_attention_models) (0.5.1)\n",
      "Requirement already satisfied: oauthlib>=3.0.0 in /opt/tljh/user/lib/python3.10/site-packages (from requests-oauthlib>=0.7.0->google-auth-oauthlib<2,>=0.5->tensorboard<2.16,>=2.15->tensorflow->keras_cv_attention_models) (3.2.2)\n"
     ]
    }
   ],
   "source": [
    "!pip install keras_cv_attention_models"
   ]
  },
  {
   "cell_type": "code",
   "execution_count": 15,
   "metadata": {},
   "outputs": [],
   "source": [
    "from keras_cv_attention_models import coatnet\n",
    "# requires \n",
    "input_shape=(56,56,3)  # (64,64,3) \n",
    "num_epochs = 200\n",
    "\n",
    "batch_size = 32 # 128\n",
    "\n",
    "learning_rate = 1e-4\n",
    "\n",
    "num_epochs = 200\n",
    "validation_split = 0.175\n",
    "weight_decay = 0.0001\n",
    "label_smoothing = 0.1\n"
   ]
  },
  {
   "cell_type": "code",
   "execution_count": 16,
   "metadata": {},
   "outputs": [
    {
     "name": "stderr",
     "output_type": "stream",
     "text": [
      "2024-07-04 10:42:23.980541: I external/local_xla/xla/stream_executor/cuda/cuda_executor.cc:901] successful NUMA node read from SysFS had negative value (-1), but there must be at least one NUMA node, so returning NUMA node zero. See more at https://github.com/torvalds/linux/blob/v6.0/Documentation/ABI/testing/sysfs-bus-pci#L344-L355\n",
      "2024-07-04 10:42:23.980817: I external/local_xla/xla/stream_executor/cuda/cuda_executor.cc:901] successful NUMA node read from SysFS had negative value (-1), but there must be at least one NUMA node, so returning NUMA node zero. See more at https://github.com/torvalds/linux/blob/v6.0/Documentation/ABI/testing/sysfs-bus-pci#L344-L355\n",
      "2024-07-04 10:42:24.035873: I external/local_xla/xla/stream_executor/cuda/cuda_executor.cc:901] successful NUMA node read from SysFS had negative value (-1), but there must be at least one NUMA node, so returning NUMA node zero. See more at https://github.com/torvalds/linux/blob/v6.0/Documentation/ABI/testing/sysfs-bus-pci#L344-L355\n",
      "2024-07-04 10:42:24.036169: I external/local_xla/xla/stream_executor/cuda/cuda_executor.cc:901] successful NUMA node read from SysFS had negative value (-1), but there must be at least one NUMA node, so returning NUMA node zero. See more at https://github.com/torvalds/linux/blob/v6.0/Documentation/ABI/testing/sysfs-bus-pci#L344-L355\n",
      "2024-07-04 10:42:24.036411: I external/local_xla/xla/stream_executor/cuda/cuda_executor.cc:901] successful NUMA node read from SysFS had negative value (-1), but there must be at least one NUMA node, so returning NUMA node zero. See more at https://github.com/torvalds/linux/blob/v6.0/Documentation/ABI/testing/sysfs-bus-pci#L344-L355\n",
      "2024-07-04 10:42:24.036647: I external/local_xla/xla/stream_executor/cuda/cuda_executor.cc:901] successful NUMA node read from SysFS had negative value (-1), but there must be at least one NUMA node, so returning NUMA node zero. See more at https://github.com/torvalds/linux/blob/v6.0/Documentation/ABI/testing/sysfs-bus-pci#L344-L355\n",
      "2024-07-04 10:42:24.182919: I external/local_xla/xla/stream_executor/cuda/cuda_executor.cc:901] successful NUMA node read from SysFS had negative value (-1), but there must be at least one NUMA node, so returning NUMA node zero. See more at https://github.com/torvalds/linux/blob/v6.0/Documentation/ABI/testing/sysfs-bus-pci#L344-L355\n",
      "2024-07-04 10:42:24.183189: I external/local_xla/xla/stream_executor/cuda/cuda_executor.cc:901] successful NUMA node read from SysFS had negative value (-1), but there must be at least one NUMA node, so returning NUMA node zero. See more at https://github.com/torvalds/linux/blob/v6.0/Documentation/ABI/testing/sysfs-bus-pci#L344-L355\n",
      "2024-07-04 10:42:24.183429: I external/local_xla/xla/stream_executor/cuda/cuda_executor.cc:901] successful NUMA node read from SysFS had negative value (-1), but there must be at least one NUMA node, so returning NUMA node zero. See more at https://github.com/torvalds/linux/blob/v6.0/Documentation/ABI/testing/sysfs-bus-pci#L344-L355\n",
      "2024-07-04 10:42:24.183664: I external/local_xla/xla/stream_executor/cuda/cuda_executor.cc:901] successful NUMA node read from SysFS had negative value (-1), but there must be at least one NUMA node, so returning NUMA node zero. See more at https://github.com/torvalds/linux/blob/v6.0/Documentation/ABI/testing/sysfs-bus-pci#L344-L355\n",
      "2024-07-04 10:42:24.183897: I external/local_xla/xla/stream_executor/cuda/cuda_executor.cc:901] successful NUMA node read from SysFS had negative value (-1), but there must be at least one NUMA node, so returning NUMA node zero. See more at https://github.com/torvalds/linux/blob/v6.0/Documentation/ABI/testing/sysfs-bus-pci#L344-L355\n",
      "2024-07-04 10:42:24.184130: I external/local_xla/xla/stream_executor/cuda/cuda_executor.cc:901] successful NUMA node read from SysFS had negative value (-1), but there must be at least one NUMA node, so returning NUMA node zero. See more at https://github.com/torvalds/linux/blob/v6.0/Documentation/ABI/testing/sysfs-bus-pci#L344-L355\n",
      "2024-07-04 10:42:24.193414: I external/local_xla/xla/stream_executor/cuda/cuda_executor.cc:901] successful NUMA node read from SysFS had negative value (-1), but there must be at least one NUMA node, so returning NUMA node zero. See more at https://github.com/torvalds/linux/blob/v6.0/Documentation/ABI/testing/sysfs-bus-pci#L344-L355\n",
      "2024-07-04 10:42:24.193678: I external/local_xla/xla/stream_executor/cuda/cuda_executor.cc:901] successful NUMA node read from SysFS had negative value (-1), but there must be at least one NUMA node, so returning NUMA node zero. See more at https://github.com/torvalds/linux/blob/v6.0/Documentation/ABI/testing/sysfs-bus-pci#L344-L355\n",
      "2024-07-04 10:42:24.193925: I external/local_xla/xla/stream_executor/cuda/cuda_executor.cc:901] successful NUMA node read from SysFS had negative value (-1), but there must be at least one NUMA node, so returning NUMA node zero. See more at https://github.com/torvalds/linux/blob/v6.0/Documentation/ABI/testing/sysfs-bus-pci#L344-L355\n",
      "2024-07-04 10:42:24.194162: I external/local_xla/xla/stream_executor/cuda/cuda_executor.cc:901] successful NUMA node read from SysFS had negative value (-1), but there must be at least one NUMA node, so returning NUMA node zero. See more at https://github.com/torvalds/linux/blob/v6.0/Documentation/ABI/testing/sysfs-bus-pci#L344-L355\n",
      "2024-07-04 10:42:24.194340: W tensorflow/core/common_runtime/gpu/gpu_bfc_allocator.cc:47] Overriding orig_value setting because the TF_FORCE_GPU_ALLOW_GROWTH environment variable is set. Original config value was 0.\n",
      "2024-07-04 10:42:24.194421: I external/local_xla/xla/stream_executor/cuda/cuda_executor.cc:901] successful NUMA node read from SysFS had negative value (-1), but there must be at least one NUMA node, so returning NUMA node zero. See more at https://github.com/torvalds/linux/blob/v6.0/Documentation/ABI/testing/sysfs-bus-pci#L344-L355\n",
      "2024-07-04 10:42:24.194608: I tensorflow/core/common_runtime/gpu/gpu_device.cc:1929] Created device /job:localhost/replica:0/task:0/device:GPU:0 with 2028 MB memory:  -> device: 0, name: NVIDIA GeForce RTX 3060 Ti, pci bus id: 0000:0a:00.0, compute capability: 8.6\n",
      "2024-07-04 10:42:24.194900: W tensorflow/core/common_runtime/gpu/gpu_bfc_allocator.cc:47] Overriding orig_value setting because the TF_FORCE_GPU_ALLOW_GROWTH environment variable is set. Original config value was 0.\n",
      "2024-07-04 10:42:24.194978: I external/local_xla/xla/stream_executor/cuda/cuda_executor.cc:901] successful NUMA node read from SysFS had negative value (-1), but there must be at least one NUMA node, so returning NUMA node zero. See more at https://github.com/torvalds/linux/blob/v6.0/Documentation/ABI/testing/sysfs-bus-pci#L344-L355\n",
      "2024-07-04 10:42:24.195166: I tensorflow/core/common_runtime/gpu/gpu_device.cc:1929] Created device /job:localhost/replica:0/task:0/device:GPU:1 with 10162 MB memory:  -> device: 1, name: NVIDIA GeForce RTX 3060, pci bus id: 0000:09:00.0, compute capability: 8.6\n"
     ]
    },
    {
     "name": "stdout",
     "output_type": "stream",
     "text": [
      ">>>> Load pretrained from: /home/jupyter-iec_smartbin/.keras/models/coatnet0_160_imagenet.h5\n",
      "WARNING:tensorflow:Skipping loading weights for layer #102 (named stack_3_block_1_mhsa_pos_emb) due to mismatch in shape for weight stack_3_block_1_mhsa_pos_emb/positional_embedding:0. Weight expects shape (6, 49). Received saved weight with shape (6, 361)\n",
      "WARNING:tensorflow:Skipping loading weights for layer #128 (named stack_3_block_2_mhsa_pos_emb) due to mismatch in shape for weight stack_3_block_2_mhsa_pos_emb/positional_embedding:0. Weight expects shape (12, 49). Received saved weight with shape (12, 361)\n",
      "WARNING:tensorflow:Skipping loading weights for layer #152 (named stack_3_block_3_mhsa_pos_emb) due to mismatch in shape for weight stack_3_block_3_mhsa_pos_emb/positional_embedding:0. Weight expects shape (12, 49). Received saved weight with shape (12, 361)\n",
      "WARNING:tensorflow:Skipping loading weights for layer #176 (named stack_3_block_4_mhsa_pos_emb) due to mismatch in shape for weight stack_3_block_4_mhsa_pos_emb/positional_embedding:0. Weight expects shape (12, 49). Received saved weight with shape (12, 361)\n",
      "WARNING:tensorflow:Skipping loading weights for layer #200 (named stack_3_block_5_mhsa_pos_emb) due to mismatch in shape for weight stack_3_block_5_mhsa_pos_emb/positional_embedding:0. Weight expects shape (12, 49). Received saved weight with shape (12, 361)\n",
      "WARNING:tensorflow:Skipping loading weights for layer #225 (named stack_4_block_1_mhsa_pos_emb) due to mismatch in shape for weight stack_4_block_1_mhsa_pos_emb/positional_embedding:0. Weight expects shape (12, 9). Received saved weight with shape (12, 81)\n",
      "WARNING:tensorflow:Skipping loading weights for layer #251 (named stack_4_block_2_mhsa_pos_emb) due to mismatch in shape for weight stack_4_block_2_mhsa_pos_emb/positional_embedding:0. Weight expects shape (24, 9). Received saved weight with shape (24, 81)\n",
      ">>>> Reload mismatched weights: 160 -> (56, 56)\n",
      ">>>> Reload layer: stack_3_block_1_mhsa_pos_emb\n",
      ">>>> Reload layer: stack_3_block_2_mhsa_pos_emb\n",
      ">>>> Reload layer: stack_3_block_3_mhsa_pos_emb\n",
      ">>>> Reload layer: stack_3_block_4_mhsa_pos_emb\n",
      ">>>> Reload layer: stack_3_block_5_mhsa_pos_emb\n",
      ">>>> Reload layer: stack_4_block_1_mhsa_pos_emb\n",
      ">>>> Reload layer: stack_4_block_2_mhsa_pos_emb\n",
      "WARNING:tensorflow:Skipping loading weights for layer #101 (named stack_3_block_1_mhsa_pos_emb) due to mismatch in shape for weight stack_3_block_1_mhsa_pos_emb/positional_embedding:0. Weight expects shape (6, 49). Received saved weight with shape (6, 729)\n",
      "WARNING:tensorflow:Skipping loading weights for layer #126 (named stack_3_block_2_mhsa_pos_emb) due to mismatch in shape for weight stack_3_block_2_mhsa_pos_emb/positional_embedding:0. Weight expects shape (12, 49). Received saved weight with shape (12, 729)\n",
      "WARNING:tensorflow:Skipping loading weights for layer #149 (named stack_3_block_3_mhsa_pos_emb) due to mismatch in shape for weight stack_3_block_3_mhsa_pos_emb/positional_embedding:0. Weight expects shape (12, 49). Received saved weight with shape (12, 729)\n",
      "WARNING:tensorflow:Skipping loading weights for layer #172 (named stack_3_block_4_mhsa_pos_emb) due to mismatch in shape for weight stack_3_block_4_mhsa_pos_emb/positional_embedding:0. Weight expects shape (12, 49). Received saved weight with shape (12, 729)\n",
      "WARNING:tensorflow:Skipping loading weights for layer #195 (named stack_3_block_5_mhsa_pos_emb) due to mismatch in shape for weight stack_3_block_5_mhsa_pos_emb/positional_embedding:0. Weight expects shape (12, 49). Received saved weight with shape (12, 729)\n",
      "WARNING:tensorflow:Skipping loading weights for layer #219 (named stack_4_block_1_mhsa_pos_emb) due to mismatch in shape for weight stack_4_block_1_mhsa_pos_emb/positional_embedding:0. Weight expects shape (12, 9). Received saved weight with shape (12, 169)\n",
      "WARNING:tensorflow:Skipping loading weights for layer #244 (named stack_4_block_2_mhsa_pos_emb) due to mismatch in shape for weight stack_4_block_2_mhsa_pos_emb/positional_embedding:0. Weight expects shape (24, 9). Received saved weight with shape (24, 169)\n"
     ]
    }
   ],
   "source": [
    "base_model = coatnet.CoAtNet0(\n",
    "    input_shape=input_shape, \n",
    "    num_classes=1000,  # Use 1000 to load the pre-trained weights\n",
    "    drop_connect_rate=0.2,\n",
    "    classifier_activation=None)  # No activation for the base model\n",
    "\n",
    "# Add a new final layer for your specific number of classes\n",
    "x = base_model.output\n",
    "x = Dense(num_classes, activation='softmax', name='custom_predictions')(x)  # Ensure unique name\n",
    "model = Model(inputs=base_model.input, outputs=x)\n",
    "\n",
    "# Load pre-trained weights, ignoring the final layer\n",
    "model.load_weights('/home/jupyter-iec_smartbin/.keras/models/coatnet0_224_imagenet.h5', by_name=True, skip_mismatch=True)\n"
   ]
  },
  {
   "cell_type": "code",
   "execution_count": 17,
   "metadata": {},
   "outputs": [
    {
     "name": "stdout",
     "output_type": "stream",
     "text": [
      "Epoch 1/200\n"
     ]
    },
    {
     "name": "stderr",
     "output_type": "stream",
     "text": [
      "2024-07-04 10:42:34.115456: E tensorflow/core/grappler/optimizers/meta_optimizer.cc:961] layout failed: INVALID_ARGUMENT: Size of values 0 does not match size of permutation 4 @ fanin shape inmodel/stack_1_block_2_drop/dropout/SelectV2-2-TransposeNHWCToNCHW-LayoutOptimizer\n",
      "2024-07-04 10:42:35.320017: I external/local_xla/xla/stream_executor/cuda/cuda_dnn.cc:454] Loaded cuDNN version 8907\n",
      "2024-07-04 10:42:36.720121: I external/local_xla/xla/service/service.cc:168] XLA service 0x7f33999ce560 initialized for platform CUDA (this does not guarantee that XLA will be used). Devices:\n",
      "2024-07-04 10:42:36.720146: I external/local_xla/xla/service/service.cc:176]   StreamExecutor device (0): NVIDIA GeForce RTX 3060 Ti, Compute Capability 8.6\n",
      "2024-07-04 10:42:36.720152: I external/local_xla/xla/service/service.cc:176]   StreamExecutor device (1): NVIDIA GeForce RTX 3060, Compute Capability 8.6\n",
      "2024-07-04 10:42:36.725473: I tensorflow/compiler/mlir/tensorflow/utils/dump_mlir_util.cc:269] disabling MLIR crash reproducer, set env var `MLIR_CRASH_REPRODUCER_DIRECTORY` to enable.\n",
      "WARNING: All log messages before absl::InitializeLog() is called are written to STDERR\n",
      "I0000 00:00:1720089756.795324   47266 device_compiler.h:186] Compiled cluster using XLA!  This line is logged at most once for the lifetime of the process.\n"
     ]
    },
    {
     "name": "stdout",
     "output_type": "stream",
     "text": [
      "406/406 [==============================] - 40s 51ms/step - loss: 0.7106 - accuracy: 0.8269 - val_loss: 0.4921 - val_accuracy: 0.9024 - lr: 1.0000e-04\n",
      "Epoch 2/200\n",
      "406/406 [==============================] - 19s 47ms/step - loss: 0.4513 - accuracy: 0.9273 - val_loss: 0.4071 - val_accuracy: 0.9481 - lr: 1.0000e-04\n",
      "Epoch 3/200\n",
      "406/406 [==============================] - 19s 47ms/step - loss: 0.3920 - accuracy: 0.9591 - val_loss: 0.3951 - val_accuracy: 0.9543 - lr: 1.0000e-04\n",
      "Epoch 4/200\n",
      "406/406 [==============================] - 19s 47ms/step - loss: 0.3628 - accuracy: 0.9741 - val_loss: 0.4006 - val_accuracy: 0.9532 - lr: 1.0000e-04\n",
      "Epoch 5/200\n",
      "406/406 [==============================] - 19s 47ms/step - loss: 0.3476 - accuracy: 0.9787 - val_loss: 0.3887 - val_accuracy: 0.9565 - lr: 1.0000e-04\n",
      "Epoch 6/200\n",
      "406/406 [==============================] - 19s 48ms/step - loss: 0.3409 - accuracy: 0.9819 - val_loss: 0.3749 - val_accuracy: 0.9597 - lr: 1.0000e-04\n",
      "Epoch 7/200\n",
      "406/406 [==============================] - 19s 47ms/step - loss: 0.3383 - accuracy: 0.9830 - val_loss: 0.4085 - val_accuracy: 0.9536 - lr: 1.0000e-04\n",
      "Epoch 8/200\n",
      "406/406 [==============================] - 19s 48ms/step - loss: 0.3330 - accuracy: 0.9851 - val_loss: 0.3826 - val_accuracy: 0.9561 - lr: 1.0000e-04\n",
      "Epoch 9/200\n",
      "406/406 [==============================] - 19s 48ms/step - loss: 0.3333 - accuracy: 0.9865 - val_loss: 0.3714 - val_accuracy: 0.9612 - lr: 1.0000e-04\n",
      "Epoch 10/200\n",
      "406/406 [==============================] - 19s 48ms/step - loss: 0.3322 - accuracy: 0.9865 - val_loss: 0.4375 - val_accuracy: 0.9325 - lr: 1.0000e-04\n",
      "Epoch 11/200\n",
      "406/406 [==============================] - 19s 48ms/step - loss: 0.3342 - accuracy: 0.9855 - val_loss: 0.4174 - val_accuracy: 0.9619 - lr: 1.0000e-04\n",
      "Epoch 12/200\n",
      "406/406 [==============================] - 19s 48ms/step - loss: 0.3327 - accuracy: 0.9864 - val_loss: 0.3888 - val_accuracy: 0.9539 - lr: 1.0000e-04\n",
      "Epoch 13/200\n",
      "406/406 [==============================] - 19s 48ms/step - loss: 0.3268 - accuracy: 0.9887 - val_loss: 0.3868 - val_accuracy: 0.9623 - lr: 1.0000e-04\n",
      "Epoch 14/200\n",
      "406/406 [==============================] - 19s 48ms/step - loss: 0.3196 - accuracy: 0.9912 - val_loss: 0.3797 - val_accuracy: 0.9579 - lr: 1.0000e-04\n",
      "Epoch 15/200\n",
      "406/406 [==============================] - 19s 48ms/step - loss: 0.3306 - accuracy: 0.9878 - val_loss: 0.3735 - val_accuracy: 0.9608 - lr: 1.0000e-04\n",
      "Epoch 16/200\n",
      "406/406 [==============================] - 19s 48ms/step - loss: 0.3246 - accuracy: 0.9891 - val_loss: 0.3777 - val_accuracy: 0.9630 - lr: 1.0000e-04\n",
      "Epoch 17/200\n",
      "406/406 [==============================] - 19s 47ms/step - loss: 0.3234 - accuracy: 0.9897 - val_loss: 0.3897 - val_accuracy: 0.9517 - lr: 1.0000e-04\n",
      "Epoch 18/200\n",
      "406/406 [==============================] - 19s 47ms/step - loss: 0.3245 - accuracy: 0.9891 - val_loss: 0.4152 - val_accuracy: 0.9419 - lr: 1.0000e-04\n",
      "Epoch 19/200\n",
      "406/406 [==============================] - 19s 47ms/step - loss: 0.3215 - accuracy: 0.9891 - val_loss: 0.3928 - val_accuracy: 0.9597 - lr: 1.0000e-04\n",
      "Epoch 20/200\n",
      "406/406 [==============================] - 19s 48ms/step - loss: 0.3186 - accuracy: 0.9906 - val_loss: 0.3766 - val_accuracy: 0.9619 - lr: 1.0000e-04\n",
      "Epoch 21/200\n",
      "406/406 [==============================] - 19s 48ms/step - loss: 0.3148 - accuracy: 0.9921 - val_loss: 0.3952 - val_accuracy: 0.9565 - lr: 1.0000e-04\n",
      "Epoch 22/200\n",
      "406/406 [==============================] - 19s 48ms/step - loss: 0.3026 - accuracy: 0.9960 - val_loss: 0.3735 - val_accuracy: 0.9634 - lr: 5.0000e-05\n",
      "Epoch 23/200\n",
      "406/406 [==============================] - 19s 48ms/step - loss: 0.2982 - accuracy: 0.9975 - val_loss: 0.3692 - val_accuracy: 0.9655 - lr: 5.0000e-05\n",
      "Epoch 24/200\n",
      "406/406 [==============================] - 20s 48ms/step - loss: 0.3014 - accuracy: 0.9963 - val_loss: 0.3682 - val_accuracy: 0.9666 - lr: 5.0000e-05\n",
      "Epoch 25/200\n",
      "406/406 [==============================] - 19s 48ms/step - loss: 0.2995 - accuracy: 0.9967 - val_loss: 0.3684 - val_accuracy: 0.9663 - lr: 5.0000e-05\n",
      "Epoch 26/200\n",
      "406/406 [==============================] - 19s 48ms/step - loss: 0.3008 - accuracy: 0.9968 - val_loss: 0.3724 - val_accuracy: 0.9623 - lr: 5.0000e-05\n",
      "Epoch 27/200\n",
      "406/406 [==============================] - 19s 48ms/step - loss: 0.3002 - accuracy: 0.9971 - val_loss: 0.3924 - val_accuracy: 0.9586 - lr: 5.0000e-05\n",
      "Epoch 28/200\n",
      "406/406 [==============================] - 19s 48ms/step - loss: 0.2998 - accuracy: 0.9972 - val_loss: 0.3727 - val_accuracy: 0.9644 - lr: 5.0000e-05\n",
      "Epoch 29/200\n",
      "406/406 [==============================] - 19s 48ms/step - loss: 0.3020 - accuracy: 0.9963 - val_loss: 0.3719 - val_accuracy: 0.9648 - lr: 5.0000e-05\n",
      "Epoch 30/200\n",
      "406/406 [==============================] - 19s 48ms/step - loss: 0.2961 - accuracy: 0.9986 - val_loss: 0.3707 - val_accuracy: 0.9659 - lr: 2.5000e-05\n",
      "Epoch 31/200\n",
      "406/406 [==============================] - 19s 48ms/step - loss: 0.2966 - accuracy: 0.9982 - val_loss: 0.3660 - val_accuracy: 0.9677 - lr: 2.5000e-05\n",
      "Epoch 32/200\n",
      "406/406 [==============================] - 19s 48ms/step - loss: 0.2948 - accuracy: 0.9986 - val_loss: 0.3704 - val_accuracy: 0.9666 - lr: 2.5000e-05\n",
      "Epoch 33/200\n",
      "406/406 [==============================] - 19s 48ms/step - loss: 0.2967 - accuracy: 0.9981 - val_loss: 0.3640 - val_accuracy: 0.9659 - lr: 2.5000e-05\n",
      "Epoch 34/200\n",
      "406/406 [==============================] - 19s 48ms/step - loss: 0.2947 - accuracy: 0.9987 - val_loss: 0.3691 - val_accuracy: 0.9655 - lr: 2.5000e-05\n",
      "Epoch 35/200\n",
      "406/406 [==============================] - 19s 48ms/step - loss: 0.2951 - accuracy: 0.9987 - val_loss: 0.3646 - val_accuracy: 0.9670 - lr: 2.5000e-05\n",
      "Epoch 36/200\n",
      "406/406 [==============================] - 19s 48ms/step - loss: 0.2954 - accuracy: 0.9985 - val_loss: 0.3644 - val_accuracy: 0.9677 - lr: 2.5000e-05\n",
      "Epoch 37/200\n",
      "406/406 [==============================] - 20s 48ms/step - loss: 0.2948 - accuracy: 0.9985 - val_loss: 0.3591 - val_accuracy: 0.9684 - lr: 1.2500e-05\n",
      "Epoch 38/200\n",
      "406/406 [==============================] - 19s 48ms/step - loss: 0.2939 - accuracy: 0.9990 - val_loss: 0.3614 - val_accuracy: 0.9681 - lr: 1.2500e-05\n",
      "Epoch 39/200\n",
      "406/406 [==============================] - 19s 48ms/step - loss: 0.2929 - accuracy: 0.9995 - val_loss: 0.3647 - val_accuracy: 0.9681 - lr: 1.2500e-05\n",
      "Epoch 40/200\n",
      "406/406 [==============================] - 19s 48ms/step - loss: 0.2940 - accuracy: 0.9992 - val_loss: 0.3671 - val_accuracy: 0.9677 - lr: 1.2500e-05\n",
      "Epoch 41/200\n",
      "406/406 [==============================] - 20s 48ms/step - loss: 0.2932 - accuracy: 0.9995 - val_loss: 0.3638 - val_accuracy: 0.9692 - lr: 1.2500e-05\n",
      "Epoch 42/200\n",
      "406/406 [==============================] - 19s 48ms/step - loss: 0.2931 - accuracy: 0.9995 - val_loss: 0.3654 - val_accuracy: 0.9688 - lr: 1.2500e-05\n",
      "Epoch 43/200\n",
      "406/406 [==============================] - 19s 48ms/step - loss: 0.2922 - accuracy: 0.9997 - val_loss: 0.3715 - val_accuracy: 0.9648 - lr: 1.2500e-05\n",
      "Epoch 44/200\n",
      "406/406 [==============================] - 19s 48ms/step - loss: 0.2933 - accuracy: 0.9993 - val_loss: 0.3709 - val_accuracy: 0.9648 - lr: 1.2500e-05\n",
      "Epoch 45/200\n",
      "406/406 [==============================] - 19s 48ms/step - loss: 0.2950 - accuracy: 0.9985 - val_loss: 0.3655 - val_accuracy: 0.9659 - lr: 1.2500e-05\n",
      "Epoch 46/200\n",
      "406/406 [==============================] - 19s 48ms/step - loss: 0.2933 - accuracy: 0.9993 - val_loss: 0.3670 - val_accuracy: 0.9659 - lr: 1.2500e-05\n",
      "Epoch 47/200\n",
      "406/406 [==============================] - 19s 48ms/step - loss: 0.2924 - accuracy: 0.9997 - val_loss: 0.3671 - val_accuracy: 0.9652 - lr: 6.2500e-06\n",
      "Epoch 48/200\n",
      "406/406 [==============================] - 19s 47ms/step - loss: 0.2925 - accuracy: 0.9995 - val_loss: 0.3634 - val_accuracy: 0.9652 - lr: 6.2500e-06\n",
      "Epoch 49/200\n",
      "406/406 [==============================] - 19s 48ms/step - loss: 0.2925 - accuracy: 0.9996 - val_loss: 0.3633 - val_accuracy: 0.9688 - lr: 6.2500e-06\n",
      "Epoch 50/200\n",
      "406/406 [==============================] - 19s 48ms/step - loss: 0.2927 - accuracy: 0.9995 - val_loss: 0.3634 - val_accuracy: 0.9670 - lr: 6.2500e-06\n",
      "Epoch 51/200\n",
      "406/406 [==============================] - 20s 48ms/step - loss: 0.2922 - accuracy: 0.9998 - val_loss: 0.3660 - val_accuracy: 0.9659 - lr: 6.2500e-06\n",
      "Epoch 52/200\n",
      "406/406 [==============================] - 20s 48ms/step - loss: 0.2919 - accuracy: 0.9998 - val_loss: 0.3668 - val_accuracy: 0.9663 - lr: 3.1250e-06\n",
      "Epoch 53/200\n",
      "406/406 [==============================] - 20s 48ms/step - loss: 0.2923 - accuracy: 0.9997 - val_loss: 0.3642 - val_accuracy: 0.9684 - lr: 3.1250e-06\n",
      "Epoch 54/200\n",
      "406/406 [==============================] - 19s 48ms/step - loss: 0.2923 - accuracy: 0.9996 - val_loss: 0.3632 - val_accuracy: 0.9670 - lr: 3.1250e-06\n",
      "Epoch 55/200\n",
      "406/406 [==============================] - 19s 48ms/step - loss: 0.2922 - accuracy: 0.9998 - val_loss: 0.3647 - val_accuracy: 0.9673 - lr: 3.1250e-06\n",
      "Epoch 56/200\n",
      "406/406 [==============================] - 19s 48ms/step - loss: 0.2924 - accuracy: 0.9996 - val_loss: 0.3647 - val_accuracy: 0.9670 - lr: 3.1250e-06\n",
      "Epoch 57/200\n",
      "406/406 [==============================] - 19s 48ms/step - loss: 0.2917 - accuracy: 1.0000 - val_loss: 0.3641 - val_accuracy: 0.9677 - lr: 1.5625e-06\n",
      "Epoch 58/200\n",
      "406/406 [==============================] - 20s 48ms/step - loss: 0.2922 - accuracy: 0.9995 - val_loss: 0.3642 - val_accuracy: 0.9673 - lr: 1.5625e-06\n",
      "Epoch 59/200\n",
      "406/406 [==============================] - 19s 48ms/step - loss: 0.2918 - accuracy: 0.9998 - val_loss: 0.3645 - val_accuracy: 0.9677 - lr: 1.5625e-06\n",
      "Epoch 60/200\n",
      "406/406 [==============================] - 19s 48ms/step - loss: 0.2920 - accuracy: 0.9997 - val_loss: 0.3648 - val_accuracy: 0.9681 - lr: 1.5625e-06\n",
      "Epoch 61/200\n",
      "406/406 [==============================] - 19s 48ms/step - loss: 0.2918 - accuracy: 0.9998 - val_loss: 0.3634 - val_accuracy: 0.9677 - lr: 1.5625e-06\n",
      "Epoch 62/200\n",
      "406/406 [==============================] - 19s 47ms/step - loss: 0.2918 - accuracy: 0.9998 - val_loss: 0.3639 - val_accuracy: 0.9688 - lr: 1.0000e-06\n",
      "Epoch 63/200\n",
      "406/406 [==============================] - 19s 48ms/step - loss: 0.2918 - accuracy: 0.9998 - val_loss: 0.3644 - val_accuracy: 0.9684 - lr: 1.0000e-06\n",
      "Epoch 64/200\n",
      "406/406 [==============================] - 19s 48ms/step - loss: 0.2918 - accuracy: 0.9998 - val_loss: 0.3636 - val_accuracy: 0.9684 - lr: 1.0000e-06\n",
      "Epoch 65/200\n",
      "406/406 [==============================] - 19s 48ms/step - loss: 0.2919 - accuracy: 0.9998 - val_loss: 0.3642 - val_accuracy: 0.9677 - lr: 1.0000e-06\n",
      "Epoch 66/200\n",
      "406/406 [==============================] - 19s 48ms/step - loss: 0.2917 - accuracy: 0.9999 - val_loss: 0.3642 - val_accuracy: 0.9692 - lr: 1.0000e-06\n",
      "Epoch 67/200\n",
      "406/406 [==============================] - 19s 48ms/step - loss: 0.2920 - accuracy: 0.9998 - val_loss: 0.3645 - val_accuracy: 0.9684 - lr: 1.0000e-06\n",
      "Epoch 68/200\n",
      "406/406 [==============================] - 19s 48ms/step - loss: 0.2920 - accuracy: 0.9996 - val_loss: 0.3629 - val_accuracy: 0.9684 - lr: 1.0000e-06\n",
      "Epoch 69/200\n",
      "406/406 [==============================] - 19s 48ms/step - loss: 0.2917 - accuracy: 0.9998 - val_loss: 0.3649 - val_accuracy: 0.9681 - lr: 1.0000e-06\n",
      "Epoch 70/200\n",
      "406/406 [==============================] - 20s 48ms/step - loss: 0.2921 - accuracy: 0.9997 - val_loss: 0.3638 - val_accuracy: 0.9695 - lr: 1.0000e-06\n",
      "Epoch 71/200\n",
      "406/406 [==============================] - 19s 48ms/step - loss: 0.2920 - accuracy: 0.9997 - val_loss: 0.3647 - val_accuracy: 0.9681 - lr: 1.0000e-06\n",
      "Epoch 72/200\n",
      "406/406 [==============================] - 19s 48ms/step - loss: 0.2924 - accuracy: 0.9995 - val_loss: 0.3628 - val_accuracy: 0.9688 - lr: 1.0000e-06\n",
      "Epoch 73/200\n",
      "406/406 [==============================] - 19s 47ms/step - loss: 0.2919 - accuracy: 0.9998 - val_loss: 0.3650 - val_accuracy: 0.9677 - lr: 1.0000e-06\n",
      "Epoch 74/200\n",
      "406/406 [==============================] - 19s 48ms/step - loss: 0.2923 - accuracy: 0.9995 - val_loss: 0.3640 - val_accuracy: 0.9688 - lr: 1.0000e-06\n",
      "Epoch 75/200\n",
      "406/406 [==============================] - 20s 48ms/step - loss: 0.2919 - accuracy: 0.9998 - val_loss: 0.3640 - val_accuracy: 0.9681 - lr: 1.0000e-06\n",
      "Epoch 76/200\n",
      "406/406 [==============================] - 19s 47ms/step - loss: 0.2917 - accuracy: 0.9998 - val_loss: 0.3640 - val_accuracy: 0.9677 - lr: 1.0000e-06\n",
      "Epoch 77/200\n",
      "406/406 [==============================] - 19s 48ms/step - loss: 0.2922 - accuracy: 0.9995 - val_loss: 0.3645 - val_accuracy: 0.9673 - lr: 1.0000e-06\n",
      "Epoch 78/200\n",
      "406/406 [==============================] - 19s 47ms/step - loss: 0.2922 - accuracy: 0.9996 - val_loss: 0.3652 - val_accuracy: 0.9684 - lr: 1.0000e-06\n",
      "Epoch 79/200\n",
      "406/406 [==============================] - 19s 47ms/step - loss: 0.2921 - accuracy: 0.9995 - val_loss: 0.3642 - val_accuracy: 0.9673 - lr: 1.0000e-06\n",
      "Epoch 80/200\n",
      "406/406 [==============================] - 19s 48ms/step - loss: 0.2918 - accuracy: 0.9998 - val_loss: 0.3649 - val_accuracy: 0.9673 - lr: 1.0000e-06\n",
      "Epoch 81/200\n",
      "406/406 [==============================] - 19s 48ms/step - loss: 0.2926 - accuracy: 0.9995 - val_loss: 0.3642 - val_accuracy: 0.9684 - lr: 1.0000e-06\n",
      "Epoch 82/200\n",
      "406/406 [==============================] - 19s 48ms/step - loss: 0.2919 - accuracy: 0.9997 - val_loss: 0.3639 - val_accuracy: 0.9673 - lr: 1.0000e-06\n",
      "Epoch 83/200\n",
      "406/406 [==============================] - 19s 48ms/step - loss: 0.2922 - accuracy: 0.9995 - val_loss: 0.3632 - val_accuracy: 0.9695 - lr: 1.0000e-06\n",
      "Epoch 84/200\n",
      "406/406 [==============================] - 19s 48ms/step - loss: 0.2915 - accuracy: 0.9999 - val_loss: 0.3635 - val_accuracy: 0.9684 - lr: 1.0000e-06\n",
      "Epoch 85/200\n",
      "406/406 [==============================] - 19s 48ms/step - loss: 0.2921 - accuracy: 0.9998 - val_loss: 0.3646 - val_accuracy: 0.9677 - lr: 1.0000e-06\n",
      "Epoch 86/200\n",
      "406/406 [==============================] - 19s 47ms/step - loss: 0.2917 - accuracy: 0.9998 - val_loss: 0.3652 - val_accuracy: 0.9681 - lr: 1.0000e-06\n",
      "Epoch 87/200\n",
      "406/406 [==============================] - 19s 47ms/step - loss: 0.2920 - accuracy: 0.9997 - val_loss: 0.3654 - val_accuracy: 0.9677 - lr: 1.0000e-06\n",
      "Epoch 88/200\n",
      "406/406 [==============================] - 19s 48ms/step - loss: 0.2917 - accuracy: 0.9998 - val_loss: 0.3640 - val_accuracy: 0.9681 - lr: 1.0000e-06\n",
      "Epoch 89/200\n",
      "406/406 [==============================] - 19s 48ms/step - loss: 0.2916 - accuracy: 0.9999 - val_loss: 0.3632 - val_accuracy: 0.9688 - lr: 1.0000e-06\n",
      "Epoch 90/200\n",
      "406/406 [==============================] - 19s 48ms/step - loss: 0.2920 - accuracy: 0.9997 - val_loss: 0.3644 - val_accuracy: 0.9692 - lr: 1.0000e-06\n",
      "Epoch 91/200\n",
      "406/406 [==============================] - 19s 48ms/step - loss: 0.2922 - accuracy: 0.9996 - val_loss: 0.3642 - val_accuracy: 0.9692 - lr: 1.0000e-06\n",
      "Epoch 92/200\n",
      "406/406 [==============================] - 20s 48ms/step - loss: 0.2923 - accuracy: 0.9996 - val_loss: 0.3640 - val_accuracy: 0.9673 - lr: 1.0000e-06\n",
      "Epoch 93/200\n",
      "406/406 [==============================] - 19s 48ms/step - loss: 0.2924 - accuracy: 0.9995 - val_loss: 0.3657 - val_accuracy: 0.9666 - lr: 1.0000e-06\n",
      "Epoch 94/200\n",
      "406/406 [==============================] - 19s 48ms/step - loss: 0.2921 - accuracy: 0.9996 - val_loss: 0.3647 - val_accuracy: 0.9677 - lr: 1.0000e-06\n",
      "Epoch 95/200\n",
      "406/406 [==============================] - 19s 48ms/step - loss: 0.2916 - accuracy: 0.9999 - val_loss: 0.3654 - val_accuracy: 0.9670 - lr: 1.0000e-06\n",
      "Epoch 96/200\n",
      "406/406 [==============================] - 19s 48ms/step - loss: 0.2920 - accuracy: 0.9998 - val_loss: 0.3650 - val_accuracy: 0.9677 - lr: 1.0000e-06\n",
      "Epoch 97/200\n",
      "406/406 [==============================] - 19s 48ms/step - loss: 0.2918 - accuracy: 0.9998 - val_loss: 0.3667 - val_accuracy: 0.9666 - lr: 1.0000e-06\n",
      "Epoch 98/200\n",
      "406/406 [==============================] - 19s 48ms/step - loss: 0.2922 - accuracy: 0.9995 - val_loss: 0.3647 - val_accuracy: 0.9684 - lr: 1.0000e-06\n",
      "Epoch 99/200\n",
      "406/406 [==============================] - 19s 47ms/step - loss: 0.2920 - accuracy: 0.9995 - val_loss: 0.3638 - val_accuracy: 0.9688 - lr: 1.0000e-06\n",
      "Epoch 100/200\n",
      "406/406 [==============================] - 19s 48ms/step - loss: 0.2919 - accuracy: 0.9998 - val_loss: 0.3627 - val_accuracy: 0.9681 - lr: 1.0000e-06\n",
      "Epoch 101/200\n",
      "406/406 [==============================] - 19s 48ms/step - loss: 0.2917 - accuracy: 0.9998 - val_loss: 0.3621 - val_accuracy: 0.9688 - lr: 1.0000e-06\n",
      "Epoch 102/200\n",
      "406/406 [==============================] - 19s 48ms/step - loss: 0.2921 - accuracy: 0.9997 - val_loss: 0.3649 - val_accuracy: 0.9677 - lr: 1.0000e-06\n",
      "Epoch 103/200\n",
      "406/406 [==============================] - 19s 47ms/step - loss: 0.2920 - accuracy: 0.9998 - val_loss: 0.3627 - val_accuracy: 0.9673 - lr: 1.0000e-06\n",
      "Epoch 104/200\n",
      "406/406 [==============================] - 19s 48ms/step - loss: 0.2920 - accuracy: 0.9998 - val_loss: 0.3641 - val_accuracy: 0.9681 - lr: 1.0000e-06\n",
      "Epoch 105/200\n",
      "406/406 [==============================] - 19s 47ms/step - loss: 0.2919 - accuracy: 0.9996 - val_loss: 0.3627 - val_accuracy: 0.9688 - lr: 1.0000e-06\n",
      "Epoch 106/200\n",
      "406/406 [==============================] - 19s 48ms/step - loss: 0.2920 - accuracy: 0.9996 - val_loss: 0.3642 - val_accuracy: 0.9681 - lr: 1.0000e-06\n",
      "Epoch 107/200\n",
      "406/406 [==============================] - 19s 48ms/step - loss: 0.2919 - accuracy: 0.9997 - val_loss: 0.3643 - val_accuracy: 0.9684 - lr: 1.0000e-06\n",
      "Epoch 108/200\n",
      "406/406 [==============================] - 19s 48ms/step - loss: 0.2918 - accuracy: 0.9998 - val_loss: 0.3633 - val_accuracy: 0.9684 - lr: 1.0000e-06\n",
      "Epoch 109/200\n",
      "406/406 [==============================] - 19s 48ms/step - loss: 0.2915 - accuracy: 0.9999 - val_loss: 0.3644 - val_accuracy: 0.9681 - lr: 1.0000e-06\n",
      "Epoch 110/200\n",
      "406/406 [==============================] - 19s 47ms/step - loss: 0.2921 - accuracy: 0.9997 - val_loss: 0.3630 - val_accuracy: 0.9688 - lr: 1.0000e-06\n",
      "Epoch 111/200\n",
      "406/406 [==============================] - 19s 48ms/step - loss: 0.2920 - accuracy: 0.9998 - val_loss: 0.3629 - val_accuracy: 0.9681 - lr: 1.0000e-06\n",
      "Epoch 112/200\n",
      "406/406 [==============================] - 19s 47ms/step - loss: 0.2918 - accuracy: 0.9998 - val_loss: 0.3638 - val_accuracy: 0.9688 - lr: 1.0000e-06\n",
      "Epoch 113/200\n",
      "406/406 [==============================] - 20s 48ms/step - loss: 0.2915 - accuracy: 1.0000 - val_loss: 0.3636 - val_accuracy: 0.9688 - lr: 1.0000e-06\n",
      "Epoch 114/200\n",
      "406/406 [==============================] - 19s 47ms/step - loss: 0.2919 - accuracy: 0.9997 - val_loss: 0.3635 - val_accuracy: 0.9681 - lr: 1.0000e-06\n",
      "Epoch 115/200\n",
      "406/406 [==============================] - 19s 47ms/step - loss: 0.2919 - accuracy: 0.9996 - val_loss: 0.3626 - val_accuracy: 0.9688 - lr: 1.0000e-06\n",
      "Epoch 116/200\n",
      "406/406 [==============================] - 19s 47ms/step - loss: 0.2922 - accuracy: 0.9994 - val_loss: 0.3631 - val_accuracy: 0.9692 - lr: 1.0000e-06\n",
      "Epoch 117/200\n",
      "406/406 [==============================] - 19s 47ms/step - loss: 0.2917 - accuracy: 0.9999 - val_loss: 0.3637 - val_accuracy: 0.9688 - lr: 1.0000e-06\n",
      "Epoch 118/200\n",
      "406/406 [==============================] - 19s 47ms/step - loss: 0.2921 - accuracy: 0.9996 - val_loss: 0.3643 - val_accuracy: 0.9688 - lr: 1.0000e-06\n",
      "Epoch 119/200\n",
      "406/406 [==============================] - 19s 47ms/step - loss: 0.2916 - accuracy: 0.9999 - val_loss: 0.3638 - val_accuracy: 0.9695 - lr: 1.0000e-06\n",
      "Epoch 120/200\n",
      "406/406 [==============================] - 19s 48ms/step - loss: 0.2920 - accuracy: 0.9996 - val_loss: 0.3626 - val_accuracy: 0.9688 - lr: 1.0000e-06\n"
     ]
    }
   ],
   "source": [
    "model.compile(\n",
    "    optimizer=Adam(learning_rate=learning_rate),\n",
    "    loss=CategoricalCrossentropy(label_smoothing=0.1),\n",
    "    metrics=['accuracy']\n",
    ")\n",
    "\n",
    "# Callbacks\n",
    "early_stop = EarlyStopping(monitor='val_accuracy', patience=50, restore_best_weights=True)\n",
    "lr_reduction = ReduceLROnPlateau(monitor='val_accuracy', patience=5, factor=0.5, min_lr=1e-6)\n",
    "\n",
    "import time\n",
    "\n",
    "class TimeHistory(Callback):\n",
    "  def on_train_begin(self, logs=None):\n",
    "    self.times = []\n",
    "    self.epoch_start_time = time.time()  \n",
    "  def on_epoch_end(self, epoch, logs=None):\n",
    "    self.times.append(time.time() - self.epoch_start_time)\n",
    "    self.epoch_start_time = time.time()\n",
    "      \n",
    "time_callback = TimeHistory()\n",
    "\n",
    "model_fit = model.fit(\n",
    "    x_train,\n",
    "    y_train,\n",
    "    epochs=num_epochs,\n",
    "    validation_split=validation_split,\n",
    "    verbose =1,\n",
    "    callbacks=[early_stop,lr_reduction, time_callback]\n",
    ")"
   ]
  },
  {
   "cell_type": "code",
   "execution_count": 18,
   "metadata": {},
   "outputs": [
    {
     "name": "stdout",
     "output_type": "stream",
     "text": [
      "Total training time: 2345.193062067032 seconds\n"
     ]
    }
   ],
   "source": [
    "total_training_time = sum(time_callback.times)\n",
    "print(\"Total training time:\", total_training_time, \"seconds\")"
   ]
  },
  {
   "cell_type": "code",
   "execution_count": 19,
   "metadata": {},
   "outputs": [
    {
     "name": "stdout",
     "output_type": "stream",
     "text": [
      "124/124 [==============================] - 2s 14ms/step - loss: 0.3608 - accuracy: 0.9703\n"
     ]
    },
    {
     "data": {
      "text/plain": [
       "[0.3608221411705017, 0.9702819585800171]"
      ]
     },
     "execution_count": 19,
     "metadata": {},
     "output_type": "execute_result"
    }
   ],
   "source": [
    "model.evaluate(x_test,  y_test)"
   ]
  },
  {
   "cell_type": "code",
   "execution_count": 20,
   "metadata": {},
   "outputs": [
    {
     "data": {
      "image/png": "[encoded data removed]",
      "text/plain": [
       "<Figure size 640x480 with 1 Axes>"
      ]
     },
     "metadata": {},
     "output_type": "display_data"
    },
    {
     "data": {
      "image/png": "[encoded data removed]",
      "text/plain": [
       "<Figure size 640x480 with 1 Axes>"
      ]
     },
     "metadata": {},
     "output_type": "display_data"
    }
   ],
   "source": [
    "# plot the loss\n",
    "plt.plot(model_fit.history['loss'], label='train loss')\n",
    "plt.plot(model_fit.history['val_loss'], label='val loss')\n",
    "plt.legend()\n",
    "plt.show()\n",
    "# plt.savefig('Swin_LossVal_loss.jpg',format='jpg')\n",
    "\n",
    "plt.close()\n",
    "# plot the accuracy\n",
    "plt.plot(model_fit.history['accuracy'], label='train acc')\n",
    "plt.plot(model_fit.history['val_accuracy'], label='val acc')\n",
    "plt.legend()\n",
    "plt.show()\n",
    "# plt.savefig('Swin_AccVal_acc.jpg',format=\"jpg\")\n",
    "\n",
    "plt.close()"
   ]
  },
  {
   "cell_type": "markdown",
   "metadata": {},
   "source": [
    "# Make predictions"
   ]
  },
  {
   "cell_type": "code",
   "execution_count": 22,
   "metadata": {},
   "outputs": [
    {
     "data": {
      "text/plain": [
       "array([0, 1, 1, ..., 1, 2, 2])"
      ]
     },
     "execution_count": 22,
     "metadata": {},
     "output_type": "execute_result"
    }
   ],
   "source": [
    "pred_x = model.predict(x_test, verbose=0) \n",
    "y_pred=np.argmax(pred_x,axis=1)\n",
    "y_pred"
   ]
  },
  {
   "cell_type": "code",
   "execution_count": 23,
   "metadata": {},
   "outputs": [
    {
     "data": {
      "text/plain": [
       "array([0, 1, 1, ..., 1, 2, 2])"
      ]
     },
     "execution_count": 23,
     "metadata": {},
     "output_type": "execute_result"
    }
   ],
   "source": [
    "y_test2 = np.argmax(y_test, axis=1)\n",
    "y_test2"
   ]
  },
  {
   "cell_type": "code",
   "execution_count": 85,
   "metadata": {},
   "outputs": [],
   "source": [
    "from sklearn import metrics\n",
    "c_matrix = metrics.confusion_matrix(y_test2, y_pred)"
   ]
  },
  {
   "cell_type": "code",
   "execution_count": 86,
   "metadata": {},
   "outputs": [],
   "source": [
    "import seaborn as sns\n",
    "def confusion_matrix(confusion_matrix, class_names, figsize = (10,7), fontsize=14):\n",
    "    df_cm = pd.DataFrame(\n",
    "        confusion_matrix, index=class_names, columns=class_names, \n",
    "    )\n",
    "    fig = plt.figure(figsize=figsize)\n",
    "    try:\n",
    "        heatmap = sns.heatmap(df_cm, annot=True, fmt=\"d\")\n",
    "    except ValueError:\n",
    "        raise ValueError(\"Confusion matrix values must be integers.\")\n",
    "    heatmap.yaxis.set_ticklabels(heatmap.yaxis.get_ticklabels(), rotation=0, ha='right', fontsize=fontsize)\n",
    "    heatmap.xaxis.set_ticklabels(heatmap.xaxis.get_ticklabels(), rotation=45, ha='right', fontsize=fontsize)\n",
    "    plt.ylabel('True label')\n",
    "    plt.xlabel('Predicted label')"
   ]
  },
  {
   "cell_type": "code",
   "execution_count": 26,
   "metadata": {},
   "outputs": [
    {
     "ename": "NameError",
     "evalue": "name 'confusion_matrix' is not defined",
     "output_type": "error",
     "traceback": [
      "\u001b[0;31m---------------------------------------------------------------------------\u001b[0m",
      "\u001b[0;31mNameError\u001b[0m                                 Traceback (most recent call last)",
      "Cell \u001b[0;32mIn[26], line 2\u001b[0m\n\u001b[1;32m      1\u001b[0m class_names\u001b[38;5;241m=\u001b[39m batches\u001b[38;5;241m.\u001b[39mclass_indices\u001b[38;5;241m.\u001b[39mkeys()\n\u001b[0;32m----> 2\u001b[0m \u001b[43mconfusion_matrix\u001b[49m(c_matrix, class_names, figsize \u001b[38;5;241m=\u001b[39m (\u001b[38;5;241m20\u001b[39m,\u001b[38;5;241m7\u001b[39m), fontsize\u001b[38;5;241m=\u001b[39m\u001b[38;5;241m14\u001b[39m)\n",
      "\u001b[0;31mNameError\u001b[0m: name 'confusion_matrix' is not defined"
     ]
    }
   ],
   "source": [
    "class_names= batches.class_indices.keys()\n",
    "confusion_matrix(c_matrix, class_names, figsize = (20,7), fontsize=14)"
   ]
  },
  {
   "cell_type": "code",
   "execution_count": 24,
   "metadata": {},
   "outputs": [],
   "source": [
    "from sklearn import metrics\n",
    "# Print the precision and recall, among other metrics\n",
    "report =  metrics.classification_report(y_test2, y_pred, digits=3, output_dict=True)\n",
    "\n",
    "df = pd.DataFrame(report).transpose().reset_index()\n",
    "df = df.rename(columns={\"index\": \"class_label\"})\n"
   ]
  },
  {
   "cell_type": "markdown",
   "metadata": {},
   "source": [
    "Let's review the part of the classification report related to each individual class"
   ]
  },
  {
   "cell_type": "code",
   "execution_count": 29,
   "metadata": {},
   "outputs": [
    {
     "data": {
      "text/html": [
       "<div>\n",
       "<style scoped>\n",
       "    .dataframe tbody tr th:only-of-type {\n",
       "        vertical-align: middle;\n",
       "    }\n",
       "\n",
       "    .dataframe tbody tr th {\n",
       "        vertical-align: top;\n",
       "    }\n",
       "\n",
       "    .dataframe thead th {\n",
       "        text-align: right;\n",
       "    }\n",
       "</style>\n",
       "<table border=\"1\" class=\"dataframe\">\n",
       "  <thead>\n",
       "    <tr style=\"text-align: right;\">\n",
       "      <th></th>\n",
       "      <th>precision</th>\n",
       "      <th>recall</th>\n",
       "      <th>f1-score</th>\n",
       "      <th>support</th>\n",
       "    </tr>\n",
       "  </thead>\n",
       "  <tbody>\n",
       "    <tr>\n",
       "      <th>0</th>\n",
       "      <td>0.975316</td>\n",
       "      <td>0.979444</td>\n",
       "      <td>0.977376</td>\n",
       "      <td>1654.000000</td>\n",
       "    </tr>\n",
       "    <tr>\n",
       "      <th>1</th>\n",
       "      <td>0.965350</td>\n",
       "      <td>0.964014</td>\n",
       "      <td>0.964681</td>\n",
       "      <td>1445.000000</td>\n",
       "    </tr>\n",
       "    <tr>\n",
       "      <th>2</th>\n",
       "      <td>0.968788</td>\n",
       "      <td>0.963007</td>\n",
       "      <td>0.965889</td>\n",
       "      <td>838.000000</td>\n",
       "    </tr>\n",
       "    <tr>\n",
       "      <th>accuracy</th>\n",
       "      <td>0.970282</td>\n",
       "      <td>0.970282</td>\n",
       "      <td>0.970282</td>\n",
       "      <td>0.970282</td>\n",
       "    </tr>\n",
       "    <tr>\n",
       "      <th>macro avg</th>\n",
       "      <td>0.969818</td>\n",
       "      <td>0.968822</td>\n",
       "      <td>0.969315</td>\n",
       "      <td>3937.000000</td>\n",
       "    </tr>\n",
       "    <tr>\n",
       "      <th>weighted avg</th>\n",
       "      <td>0.970269</td>\n",
       "      <td>0.970282</td>\n",
       "      <td>0.970271</td>\n",
       "      <td>3937.000000</td>\n",
       "    </tr>\n",
       "  </tbody>\n",
       "</table>\n",
       "</div>"
      ],
      "text/plain": [
       "              precision    recall  f1-score      support\n",
       "0              0.975316  0.979444  0.977376  1654.000000\n",
       "1              0.965350  0.964014  0.964681  1445.000000\n",
       "2              0.968788  0.963007  0.965889   838.000000\n",
       "accuracy       0.970282  0.970282  0.970282     0.970282\n",
       "macro avg      0.969818  0.968822  0.969315  3937.000000\n",
       "weighted avg   0.970269  0.970282  0.970271  3937.000000"
      ]
     },
     "execution_count": 29,
     "metadata": {},
     "output_type": "execute_result"
    }
   ],
   "source": [
    "df = pd.DataFrame(report).transpose()\n",
    "df"
   ]
  },
  {
   "cell_type": "code",
   "execution_count": 25,
   "metadata": {},
   "outputs": [
    {
     "data": {
      "text/html": [
       "<div>\n",
       "<style scoped>\n",
       "    .dataframe tbody tr th:only-of-type {\n",
       "        vertical-align: middle;\n",
       "    }\n",
       "\n",
       "    .dataframe tbody tr th {\n",
       "        vertical-align: top;\n",
       "    }\n",
       "\n",
       "    .dataframe thead th {\n",
       "        text-align: right;\n",
       "    }\n",
       "</style>\n",
       "<table border=\"1\" class=\"dataframe\">\n",
       "  <thead>\n",
       "    <tr style=\"text-align: right;\">\n",
       "      <th></th>\n",
       "      <th>class_label</th>\n",
       "      <th>precision</th>\n",
       "      <th>recall</th>\n",
       "      <th>f1-score</th>\n",
       "      <th>support</th>\n",
       "    </tr>\n",
       "  </thead>\n",
       "  <tbody>\n",
       "    <tr>\n",
       "      <th>0</th>\n",
       "      <td>Organic</td>\n",
       "      <td>0.975</td>\n",
       "      <td>0.979</td>\n",
       "      <td>0.977</td>\n",
       "      <td>1654</td>\n",
       "    </tr>\n",
       "    <tr>\n",
       "      <th>1</th>\n",
       "      <td>Recycle</td>\n",
       "      <td>0.965</td>\n",
       "      <td>0.964</td>\n",
       "      <td>0.965</td>\n",
       "      <td>1445</td>\n",
       "    </tr>\n",
       "    <tr>\n",
       "      <th>2</th>\n",
       "      <td>UnRecycle</td>\n",
       "      <td>0.969</td>\n",
       "      <td>0.963</td>\n",
       "      <td>0.966</td>\n",
       "      <td>838</td>\n",
       "    </tr>\n",
       "  </tbody>\n",
       "</table>\n",
       "</div>"
      ],
      "text/plain": [
       "  class_label  precision  recall  f1-score  support\n",
       "0     Organic      0.975   0.979     0.977     1654\n",
       "1     Recycle      0.965   0.964     0.965     1445\n",
       "2   UnRecycle      0.969   0.963     0.966      838"
      ]
     },
     "execution_count": 25,
     "metadata": {},
     "output_type": "execute_result"
    }
   ],
   "source": [
    "clf_rep = metrics.precision_recall_fscore_support(y_test2, y_pred)\n",
    "out_dict = {\n",
    "             \"precision\" : clf_rep[0].round(3)\n",
    "            ,\"recall\" : clf_rep[1].round(3)\n",
    "            ,\"f1-score\" : clf_rep[2].round(3)\n",
    "            ,\"support\" : clf_rep[3]\n",
    "            }\n",
    "out_df = pd.DataFrame(out_dict).reset_index().rename(columns={\"index\": \"class_label\"})\n",
    "class_label_values = dict(zip(range(0,len(batches.class_indices)), batches.class_indices))\n",
    "out_df['class_label'] = out_df['class_label'].map(class_label_values)\n",
    "out_df"
   ]
  },
  {
   "cell_type": "markdown",
   "metadata": {},
   "source": [
    "Now let's review the aggregated values from  the classification report"
   ]
  },
  {
   "cell_type": "code",
   "execution_count": null,
   "metadata": {},
   "outputs": [],
   "source": [
    "# display aggregated values - selecting rows based on condition \n",
    "options = ['accuracy', 'macro avg',  'weighted avg']\n",
    "agg_df = df[df['class_label'].isin(options)]\n",
    "agg_df"
   ]
  },
  {
   "cell_type": "code",
   "execution_count": null,
   "metadata": {},
   "outputs": [],
   "source": []
  }
 ],
 "metadata": {
  "kaggle": {
   "accelerator": "none",
   "dataSources": [
    {
     "datasetId": 552562,
     "sourceId": 1024892,
     "sourceType": "datasetVersion"
    },
    {
     "datasetId": 4804617,
     "sourceId": 8129101,
     "sourceType": "datasetVersion"
    }
   ],
   "dockerImageVersionId": 30407,
   "isGpuEnabled": false,
   "isInternetEnabled": true,
   "language": "python",
   "sourceType": "notebook"
  },
  "kernelspec": {
   "display_name": "Python 3 (ipykernel)",
   "language": "python",
   "name": "python3"
  },
  "language_info": {
   "codemirror_mode": {
    "name": "ipython",
    "version": 3
   },
   "file_extension": ".py",
   "mimetype": "text/x-python",
   "name": "python",
   "nbconvert_exporter": "python",
   "pygments_lexer": "ipython3",
   "version": "3.10.14"
  }
 },
 "nbformat": 4,
 "nbformat_minor": 4
}
