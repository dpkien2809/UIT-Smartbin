{
  "cells": [
    {
      "cell_type": "code",
      "execution_count": null,
      "metadata": {
        "colab": {
          "base_uri": "https://localhost:8080/"
        },
        "id": "y0PZrshlyeIA",
        "outputId": "19c3c08e-a8bc-4381-b7ea-96389527ad47"
      },
      "outputs": [
        {
          "output_type": "stream",
          "name": "stdout",
          "text": [
            "Collecting bing-image-downloader\n",
            "  Downloading bing_image_downloader-1.1.2-py3-none-any.whl (5.9 kB)\n",
            "Installing collected packages: bing-image-downloader\n",
            "Successfully installed bing-image-downloader-1.1.2\n"
          ]
        }
      ],
      "source": [
        "!pip install bing-image-downloader"
      ]
    },
    {
      "cell_type": "code",
      "execution_count": null,
      "metadata": {
        "id": "aqjpVqgNxMLN"
      },
      "outputs": [],
      "source": [
        "from bing_image_downloader import downloader\n",
        "import time\n",
        "\n",
        "def download_with_retry(keyword, limit, output_dir, retries=5):\n",
        "    attempt = 0\n",
        "    while attempt < retries:\n",
        "        try:\n",
        "            downloader.download(keyword, limit=limit, output_dir=output_dir, adult_filter_off=True, force_replace=False, timeout=60, verbose=True)\n",
        "            print(f\"Download of {keyword} completed successfully.\")\n",
        "            break\n",
        "        except Exception as e:\n",
        "            print(f\"Error downloading {keyword}: {e}\")\n",
        "            attempt += 1\n",
        "            if attempt < retries:\n",
        "                print(f\"Retrying... (Attempt {attempt + 1}/{retries})\")\n",
        "                time.sleep(1)\n",
        "            else:\n",
        "                print(f\"Failed to download {keyword} after {retries} attempts.\")"
      ]
    },
    {
      "cell_type": "code",
      "execution_count": null,
      "metadata": {
        "id": "xFVqs7axxW0F"
      },
      "outputs": [],
      "source": [
        "download_with_retry('query_string', limit=150, output_dir='name')\n",
        "print(\"Tao chay duoc roi :D\")\n",
        "import shutil\n",
        "from google.colab import files\n",
        "folder_path = 'path_to_query_string'\n",
        "shutil.make_archive(folder_path, 'zip', folder_path)"
      ]
    }
  ],
  "metadata": {
    "colab": {
      "provenance": []
    },
    "kernelspec": {
      "display_name": "Python 3",
      "name": "python3"
    },
    "language_info": {
      "name": "python"
    }
  },
  "nbformat": 4,
  "nbformat_minor": 0
}